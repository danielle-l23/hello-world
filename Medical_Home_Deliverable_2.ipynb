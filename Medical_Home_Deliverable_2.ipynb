{
  "nbformat": 4,
  "nbformat_minor": 0,
  "metadata": {
    "colab": {
      "name": "Medical Home Deliverable 2.ipynb",
      "provenance": [],
      "include_colab_link": true
    },
    "kernelspec": {
      "name": "ir",
      "display_name": "R"
    },
    "language_info": {
      "name": "R"
    }
  },
  "cells": [
    {
      "cell_type": "markdown",
      "metadata": {
        "id": "view-in-github",
        "colab_type": "text"
      },
      "source": [
        "<a href=\"https://colab.research.google.com/github/danielle-l23/hello-world/blob/main/Medical_Home_Deliverable_2.ipynb\" target=\"_parent\"><img src=\"https://colab.research.google.com/assets/colab-badge.svg\" alt=\"Open In Colab\"/></a>"
      ]
    },
    {
      "cell_type": "markdown",
      "metadata": {
        "id": "-0ZjtEhYw6T7"
      },
      "source": [
        "__Group Members:__ 9079414778 (Matt) , 9071987730 (Caleb), 9058163032 (Danielle)"
      ]
    },
    {
      "cell_type": "markdown",
      "metadata": {
        "id": "QV_7g9_5unDZ"
      },
      "source": [
        "## Introduction \n",
        "Our analysis began with making corrections to our previous calculations of ‘The Medical Home’ indicator. We realized we had made a few oversights, the biggest one being that the binary indicators (for example, whether or not a child needs to see a specialist) were not included in the calculation of the final medical home predictor. As well, because we did not remove NAs from our calculation of the mean scores for ‘accessibility’, ‘family-centered’, ‘compassionate’, and ‘comprehensive’, this was resulting in many, many more NA values than was necessary. To correct these scores, we added an additional parameter of na.rm = TRUE for each of the rowMeans calculations for the 4 care categories; this allowed us to create a so-called “valid skip” (per our article) for those patients that did not have a relevant answer to a question about a specific health care need. We also adjusted our scoring, completely eliminating the binary indicators from our scoring system. From this, we received a much more reasonable number of children with a medical home and felt comfortable proceeding. "
      ]
    },
    {
      "cell_type": "markdown",
      "metadata": {
        "id": "_hoCgO5YuqAx"
      },
      "source": [
        "__The commentary in this Deliverable will focus on what we did to create Table 4__"
      ]
    },
    {
      "cell_type": "code",
      "metadata": {
        "id": "0MXA1TL8utsH",
        "colab": {
          "base_uri": "https://localhost:8080/",
          "height": 129
        },
        "outputId": "ee22735a-0a4c-47d3-c4a5-207209ba92f9"
      },
      "source": [
        "library(\"epiDisplay\")\n",
        "library(\"questionr\")\n",
        "library('matrixStats')\n",
        "library('dplyr')"
      ],
      "execution_count": null,
      "outputs": [
        {
          "output_type": "error",
          "ename": "ERROR",
          "evalue": "ignored",
          "traceback": [
            "Error in library(\"epiDisplay\"): there is no package called ‘epiDisplay’\nTraceback:\n",
            "1. library(\"epiDisplay\")"
          ]
        }
      ]
    },
    {
      "cell_type": "code",
      "metadata": {
        "id": "a1h4KnLquuhY"
      },
      "source": [
        "load('H171.RData')"
      ],
      "execution_count": null,
      "outputs": []
    },
    {
      "cell_type": "markdown",
      "metadata": {
        "id": "tb8pQA9Guypd"
      },
      "source": [
        "The left side of Table 4 examines the percentage of all children receiving guidance or screening from a doctor out of those receiving at least one doctor’s visit in that particular year. To start, we pulled out our variables necessary for building the table. To start, we need the variable that indicates whether a person has had a doctor’s visit in the past year. Because the article specified ‘office-based healthcare visit’, and the article focuses on doctors, we chose the variable ‘CHAPPT42’, which pulls data from the CAHPS section of MEPS, which focuses on ages 0 to 17 in the past 12 months. CHAPPT42 is an ordered factored variable, but we are still able to filter for all variables above 0 because those all correspond to positive values. We also took a second precaution to filter by less than or equal to age using the AGE14X variable, the numerical age variable."
      ]
    },
    {
      "cell_type": "code",
      "metadata": {
        "id": "w15gOwxfuz1S"
      },
      "source": [
        "#Remove all people over 17yrs old and those with a missing value\n",
        "H171_subset <- H171[which(H171$AGE14X < 18 & H171$AGE14X >= 0), ]\n",
        "\n",
        "\n",
        "summary(H171_subset$AGE14X)\n",
        "\n",
        "#Remove all missing values and people who have 0 office-based health care visits\n",
        "H171_subset <- H171_subset[which(H171_subset$CHAPPT42 > 0), ]\n",
        "\n",
        "summary(H171_subset$CHAPPT42)"
      ],
      "execution_count": null,
      "outputs": []
    },
    {
      "cell_type": "markdown",
      "metadata": {
        "id": "-eEOcyrbu2X_"
      },
      "source": [
        "Then, we subset the data to include only our variables of interest. Those include:  \n",
        "* LAPBLT42, whether a doctor provided guidance about using a lapbelt and shoulder belt in the car   \n",
        "* BOOST42, whether doctor has given advice about using a booster seat in the car   \n",
        "* SAFEST42, whether doctor has given advice about using a safety seat in the car   \n",
        "* HELMET42, whether the doctor has given advice about wearing a helmet while riding a bike   \n",
        "* DENTAL42, whether doctor advised about a dental checkup   \n",
        "* NOSMOK42, whether doctor has given advice about second-hand smoke  \n",
        "* PHYSCL42, whether doctor has provided guidance about exercise or physical activity for the child   \n",
        "* EATHLT42, whether doctor has provided guidance about eating healthy   \n",
        "* MESBPR42, whether doctor has checked blood pressure of child   \n",
        "* MESVIS42, whether doctor has ever checked child’s vision   \n",
        "* MESWGT42, whether doctor has checked child’s weight   \n",
        "* MESHGT42, whether doctor has checked child’s height \n",
        "\n",
        "All of our variables come from the ‘Child Preventative Care’ section of the MEPS data, as explained in the MEPS documentation.  "
      ]
    },
    {
      "cell_type": "code",
      "metadata": {
        "id": "XkreYywovRla"
      },
      "source": [
        "table1_dat <- H171_subset[, c('HAVEUS42', 'PROVTY42', 'OFFHOU42', 'AFTHOU42', \n",
        "                              'PHNREG42', 'CHLIST42', 'CHPRTM42', 'TREATM42', \n",
        "                              'RESPCT42', 'DECIDE42', 'EXPLOP42', 'CHEXPL42', \n",
        "                              'CHSPEC42', 'CHEYRE42', 'CHILCR42', 'CHILWW42', \n",
        "                              'CHRTCR42', 'CHRTWW42', 'CHNDCR42', 'CHENEC42', \n",
        "                              'CHRESP42', \"PLCTYP42\")]\n",
        "\n",
        "table2_dat <- H171_subset[,c('AGE14X', 'INSCOV14', 'sex', 'POVLEV14', 'racethx',\n",
        "                             'RTHLTH42', 'REGION14')]\n",
        "\n",
        "table4_dat <- H171_subset[,c('WHNLAP42', 'LAPBLT42', 'WHNBST42', 'PREVEN42',\n",
        "                             'BOOST42', 'WHNSAF42', 'SAFEST42', 'WHNHEL42', \n",
        "                             'HELMET42', 'WHNDEN42', 'DENTAL42', 'WHNSMK42', \n",
        "                             'NOSMOK42', 'WHNPHY42', 'PHYSCL42', 'WHNEAT42', \n",
        "                             'EATHLT42', 'WHNBPR42', 'MESBPR42', 'MESVIS42', \n",
        "                             'WHNWGT42', 'MESWGT42', 'WHNHGT42', 'MESHGT42')]"
      ],
      "execution_count": null,
      "outputs": []
    },
    {
      "cell_type": "markdown",
      "metadata": {
        "id": "xi0E6r3SvUys"
      },
      "source": [
        "## Table 2"
      ]
    },
    {
      "cell_type": "code",
      "metadata": {
        "id": "hGZoYseOvYaf"
      },
      "source": [
        "#Create new categorical variables to match categories in the paper for Table 2\n",
        "table2_dat <- within(table2_dat, {\n",
        "        Gender <- NA\n",
        "        Gender[sex == 1] <- \"Male\"\n",
        "        Gender[sex == 2] <- \"Female\"\n",
        "        Age <- NA\n",
        "        Age[AGE14X >= 0 & AGE14X <= 5] <- \"0-5 Years\"\n",
        "        Age[AGE14X > 5 & AGE14X <= 11] <- \"6-11 Years\"\n",
        "        Age[AGE14X > 11 & AGE14X <= 17] <- \"12-17 Years\"\n",
        "        Race_ethnicity <- NA\n",
        "        Race_ethnicity[racethx == 1] <- \"Hispanic\"\n",
        "        Race_ethnicity[racethx == 2] <- \"White, non-Hispanic\"\n",
        "        Race_ethnicity[racethx == 3] <- \"Black, non-Hispanic\"\n",
        "        Race_ethnicity[racethx == 4 | racethx == 5] <- \"Other, non-Hispanic\"\n",
        "        Insurance <- NA\n",
        "        Insurance[INSCOV14 == 1] <- \"Private\"\n",
        "        Insurance[INSCOV14 == 2] <- \"Public\"\n",
        "        Insurance[INSCOV14 == 3] <- \"Uninsured Full Year\"\n",
        "        FamilyIncome <- NA\n",
        "        FamilyIncome[POVLEV14 < 100] <- \"<100% FPL\"\n",
        "        FamilyIncome[POVLEV14 >= 100 & POVLEV14 < 200] <- \"100%–199% FPL\"\n",
        "        FamilyIncome[POVLEV14 >= 200 & POVLEV14 < 400] <- \"200%–399% FPL\"\n",
        "        FamilyIncome[POVLEV14 >= 400] <- \">=400% FPL\"\n",
        "        ChildHealth <- NA\n",
        "        ChildHealth[RTHLTH42 == 1 | RTHLTH42 == 2] <- \"Excellent/very good\"\n",
        "        ChildHealth[RTHLTH42 == 3] <- \"Good\"\n",
        "        ChildHealth[RTHLTH42 == 4 | RTHLTH42 == 5] <- \"Fair/poor\"\n",
        "        GeographicRegion <- NA\n",
        "        GeographicRegion[REGION14 == 1] <- \"Northeast\"\n",
        "        GeographicRegion[REGION14 == 2] <- \"Midwest\"\n",
        "        GeographicRegion[REGION14 == 3] <- \"South\"\n",
        "        GeographicRegion[REGION14 == 4] <- \"West\"\n",
        "               })"
      ],
      "execution_count": null,
      "outputs": []
    },
    {
      "cell_type": "code",
      "metadata": {
        "id": "wUQz5bjevbsi"
      },
      "source": [
        "table2_dat$Age <- factor(table2_dat$Age,\n",
        "                         levels = c(\"0-5 Years\", \"6-11 Years\", \"12-17 Years\"))\n",
        "\n",
        "\n",
        "table2_dat$Gender <- factor(table2_dat$Gender,\n",
        "                            levels = c(\"Male\", \"Female\"))\n",
        "\n",
        "\n",
        "table2_dat$Race_ethnicity <- factor(table2_dat$Race_ethnicity, \n",
        "                                    levels = c(\"White, non-Hispanic\", \n",
        "                                               \"Black, non-Hispanic\", \n",
        "                                               \"Other, non-Hispanic\", \n",
        "                                               \"Hispanic\"))\n",
        "\n",
        "\n",
        "table2_dat$Insurance <- factor(table2_dat$Insurance,\n",
        "                               levels = c(\"Private\", \"Public\", \"Uninsured Full Year\"))\n",
        "\n",
        "\n",
        "table2_dat$FamilyIncome <- factor(table2_dat$FamilyIncome,\n",
        "                                  levels = c(\"<100% FPL\", \"100%–199% FPL\", \n",
        "                                             \"200%–399% FPL\", \">=400% FPL\"))\n",
        "\n",
        "\n",
        "table2_dat$ChildHealth <- factor(table2_dat$ChildHealth,\n",
        "                                 levels = c(\"Excellent/very good\", \"Good\", \n",
        "                                            \"Fair/poor\"))\n",
        "\n",
        "\n",
        "table2_dat$GeographicRegion <- factor(table2_dat$GeographicRegion,\n",
        "                                      levels = c(\"Northeast\", \"Midwest\", \n",
        "                                                 \"South\", \"West\"))"
      ],
      "execution_count": null,
      "outputs": []
    },
    {
      "cell_type": "code",
      "metadata": {
        "id": "9jGDSfRSvfKi"
      },
      "source": [
        "summary(table2_dat)\n",
        "str(table2_dat)"
      ],
      "execution_count": null,
      "outputs": []
    },
    {
      "cell_type": "code",
      "metadata": {
        "id": "K15IDchVvhNd"
      },
      "source": [
        "#Age Breakdown\n",
        "tab1(table2_dat$Age, graph = FALSE)\n",
        "\n",
        "#Gender Breakdown\n",
        "tab1(table2_dat$Gender, graph = FALSE)\n",
        "\n",
        "#Race/ethnicity Breakdown\n",
        "tab1(table2_dat$Race_ethnicity, graph = FALSE)\n",
        "\n",
        "#Insurance Breakdown\n",
        "tab1(table2_dat$Insurance, graph = FALSE)\n",
        "\n",
        "#Family income Breakdown\n",
        "tab1(table2_dat$FamilyIncome, graph = FALSE)\n",
        "\n",
        "#Parent report HS Breakdown\n",
        "tab1(table2_dat$ChildHealth,  graph = FALSE)\n",
        "\n",
        "#Region Breakdown\n",
        "tab1(table2_dat$GeographicRegion,  graph = FALSE)"
      ],
      "execution_count": null,
      "outputs": []
    },
    {
      "cell_type": "markdown",
      "metadata": {
        "id": "P1TGq95NvjN8"
      },
      "source": [
        "## Table 1 / Table 3"
      ]
    },
    {
      "cell_type": "markdown",
      "metadata": {
        "id": "QweWChhYZzaN"
      },
      "source": [
        "Now, we need to recode the variables that are incorporated in to the calculation of the Medical Home designation. We've adjusted our binary indicators to now be coded as zero and one instead of carrying weight toward the Medical Home calculation. Also, the article mentioned that \"Don't Know\" responses were then coded as \"No\"s for the Medical Home calculation. In these instances, \"Don't Know\"s were originally coded as \"-8\". There is an exception to this for AFTHOU42 and OFFHOU42, regarding questions determining difficult accessing resources. It was assumed that if participants were answering \"Don't Know\", they likely did not have a difficult time. Because of it, these answers were coded as \"Not at all difficult. "
      ]
    },
    {
      "cell_type": "code",
      "metadata": {
        "id": "S8edzOtnvj6N"
      },
      "source": [
        "#USC\n",
        "table1_dat <- within(table1_dat, {\n",
        "      UsualSource <- NA\n",
        "      UsualSource[HAVEUS42 == 1] <- \"Yes\"\n",
        "      UsualSource[HAVEUS42 == 2 | HAVEUS42 == -8 | PLCTYP42 == 2] <- \"No\"\n",
        "      ProvType <- NA\n",
        "      ProvType[PROVTY42 == 1] <- \"Facility\"\n",
        "      ProvType[PROVTY42 == 2 & 3] <- \"Person\"\n",
        "      })"
      ],
      "execution_count": null,
      "outputs": []
    },
    {
      "cell_type": "code",
      "metadata": {
        "id": "4d8KyX5BvnI_"
      },
      "source": [
        "#Accessible\n",
        "#Variable for difficulty accessing care not included because it was removed from MEPS in 2014\n",
        "table1_dat <- within(table1_dat, {\n",
        "      Offhours <- NA\n",
        "      Offhours[OFFHOU42 == 1] <- 100\n",
        "      Offhours[OFFHOU42 == 2 | OFFHOU42 == -8] <- 0\n",
        "      Diff_Aft <- NA\n",
        "      Diff_Aft[AFTHOU42 == 1] <- 0\n",
        "      Diff_Aft[AFTHOU42 == 2] <- 25\n",
        "      Diff_Aft[AFTHOU42 == 3] <- 75\n",
        "      Diff_Aft[AFTHOU42 == 4 | AFTHOU42 == -8] <- 100\n",
        "      Phone <- NA\n",
        "      Phone[PHNREG42 == 1] <- 0\n",
        "      Phone[PHNREG42 == 2] <- 25\n",
        "      Phone[PHNREG42 == 3] <- 75\n",
        "      Phone[PHNREG42 == 4 | PHNREG42 == -8] <- 100\n",
        "      })"
      ],
      "execution_count": null,
      "outputs": []
    },
    {
      "cell_type": "code",
      "metadata": {
        "id": "HZojzLuYvqHP"
      },
      "source": [
        "#Family\n",
        "table1_dat <- within(table1_dat, {\n",
        "      Listened <- NA\n",
        "      Listened[CHLIST42 == 1] <- 0\n",
        "      Listened[CHLIST42 == 2] <- 25\n",
        "      Listened[CHLIST42 == 3] <- 75\n",
        "      Listened[CHLIST42 == 4] <- 100\n",
        "      EnoughTime <- NA\n",
        "      EnoughTime[CHPRTM42 == 1] <- 0\n",
        "      EnoughTime[CHPRTM42 == 2] <- 25\n",
        "      EnoughTime[CHPRTM42 == 3] <- 75\n",
        "      EnoughTime[CHPRTM42 == 4] <- 100\n",
        "      Advice <- NA\n",
        "      Advice[TREATM42 == 1] <- 100\n",
        "      Advice[TREATM42 == 2 | TREATM42 == -8] <- 0\n",
        "      Respect <- NA\n",
        "      Respect[RESPCT42 == 1] <- 0\n",
        "      Respect[RESPCT42 == 2] <- 25\n",
        "      Respect[RESPCT42 == 3] <- 75\n",
        "      Respect[RESPCT42 == 4] <- 100\n",
        "      Decide <- NA\n",
        "      Decide[DECIDE42 == 1] <- 0\n",
        "      Decide[DECIDE42 == 2] <- 25\n",
        "      Decide[DECIDE42 == 3] <- 75\n",
        "      Decide[DECIDE42 == 4] <- 100\n",
        "      ExplainOpt <- NA\n",
        "      ExplainOpt[EXPLOP42 == 1] <- 100\n",
        "      ExplainOpt[EXPLOP42 == 2 | EXPLOP42 == -8] <- 0\n",
        "      Understand <- NA\n",
        "      Understand[CHEXPL42 == 1] <- 0\n",
        "      Understand[CHEXPL42 == 2] <- 25\n",
        "      Understand[CHEXPL42 == 3] <- 75\n",
        "      Understand[CHEXPL42 == 4] <- 100\n",
        "      })"
      ],
      "execution_count": null,
      "outputs": []
    },
    {
      "cell_type": "code",
      "metadata": {
        "id": "QMUTp3oAvtLB"
      },
      "source": [
        "#Comprehensive\n",
        "table1_dat <- within(table1_dat, {\n",
        "      Specialist <- NA\n",
        "      Specialist[CHSPEC42 == 1] <- 1\n",
        "      Specialist[CHSPEC42 == 2 | CHSPEC42 == -8] <- 0\n",
        "      Access_Spec <- NA\n",
        "      Access_Spec[CHEYRE42 == 1] <- 0\n",
        "      Access_Spec[CHEYRE42 == 2] <- 50\n",
        "      Access_Spec[CHEYRE42 == 3 | CHEYRE42 == 4 | CHEYRE42 == -8] <- 100\n",
        "      Immediate <- NA\n",
        "      Immediate[CHILCR42 == 1] <- 1\n",
        "      Immediate[CHILCR42 == 2 | CHILCR42 == -8] <- 0\n",
        "      CareNeeded <- NA\n",
        "      CareNeeded[CHILWW42 == 1] <- 0\n",
        "      CareNeeded[CHILWW42 == 2] <- 25\n",
        "      CareNeeded[CHILWW42 == 3] <- 75\n",
        "      CareNeeded[CHILWW42 == 4 | CHILWW42 == -8] <- 100\n",
        "      Routine <- NA\n",
        "      Routine[CHRTCR42 == 1] <- 1\n",
        "      Routine[CHRTCR42 == 2 | CHRTCR42 == -8] <- 0\n",
        "      RoutineCare <- NA\n",
        "      RoutineCare[CHRTWW42 == 1] <- 0\n",
        "      RoutineCare[CHRTWW42 == 2] <- 25\n",
        "      RoutineCare[CHRTWW42 == 3] <- 75\n",
        "      RoutineCare[CHRTWW42 == 4 | CHRTWW42 == -8] <- 100\n",
        "      Believe <- NA\n",
        "      Believe[CHNDCR42 == 1] <- 1\n",
        "      Believe[CHNDCR42 == 2 | CHNDCR42 == -8] <- 0\n",
        "      NecessaryCare <- NA\n",
        "      NecessaryCare[CHENEC42 == 1] <- 0\n",
        "      NecessaryCare[CHENEC42 == 2] <- 50\n",
        "      NecessaryCare[ CHENEC42 == 3 |CHENEC42 == 4 | CHENEC42 == -8] <- 100\n",
        "      })"
      ],
      "execution_count": null,
      "outputs": []
    },
    {
      "cell_type": "code",
      "metadata": {
        "id": "irmDoLlovvQB"
      },
      "source": [
        "#Compass\n",
        "table1_dat <- within(table1_dat, {\n",
        "      RespPat <- NA\n",
        "      RespPat[CHRESP42 == 1] <- 0\n",
        "      RespPat[CHRESP42 == 2] <- 25\n",
        "      RespPat[CHRESP42 == 3] <- 75\n",
        "      RespPat[CHRESP42 == 4 | CHRESP42 == -8] <- 100\n",
        "})"
      ],
      "execution_count": null,
      "outputs": []
    },
    {
      "cell_type": "code",
      "metadata": {
        "id": "42ZNHTNMvx2a"
      },
      "source": [
        "#add to original working table for ease\n",
        "table1_dat$access <- rowMeans(table1_dat[, c('Offhours', 'Diff_Aft', 'Phone')], na.rm = TRUE)\n",
        "\n",
        "table1_dat$famcenter <- rowMeans(table1_dat[, c('Listened', 'EnoughTime','Advice',\n",
        "                                                'Respect','Decide','ExplainOpt',\n",
        "                                                'Understand')], na.rm = TRUE)\n",
        "\n",
        "table1_dat$comprehensive <- rowMeans(table1_dat[, c('Access_Spec', 'CareNeeded',\n",
        "                                                    'RoutineCare', 'NecessaryCare')], na.rm = TRUE)"
      ],
      "execution_count": null,
      "outputs": []
    },
    {
      "cell_type": "code",
      "metadata": {
        "id": "1bEnldvXv07g"
      },
      "source": [
        "summary(table1_dat)"
      ],
      "execution_count": null,
      "outputs": []
    },
    {
      "cell_type": "code",
      "metadata": {
        "id": "lyILmzb7v4EH"
      },
      "source": [
        "#build the binary indicator for each category for medical homes\n",
        "table1_dat <- within(table1_dat, {\n",
        "  Accessible <- NA\n",
        "  Accessible[access >= 75] <- 1\n",
        "  Accessible[access < 75] <- 0\n",
        "  })\n",
        "\n",
        "table1_dat <- within(table1_dat, {\n",
        "  FamilyCentered <- NA\n",
        "  FamilyCentered[famcenter >= 75] <- 1\n",
        "  FamilyCentered[famcenter < 75] <- 0\n",
        "})\n",
        "\n",
        "table1_dat <- within(table1_dat, {\n",
        "  Comprehensive <- NA\n",
        "  Comprehensive[comprehensive >= 75] <- 1\n",
        "  Comprehensive[comprehensive < 75] <- 0\n",
        "})\n",
        "\n",
        "table1_dat <- within(table1_dat, {\n",
        "  Compassionate <- NA\n",
        "  Compassionate[RespPat >= 75] <- 1\n",
        "  Compassionate[RespPat < 75] <- 0\n",
        "})\n",
        "\n",
        "table1_dat$MHScores <- rowSums(table1_dat[ , c('Accessible','FamilyCentered',\n",
        "                                               'Comprehensive','Compassionate')])\n",
        "table1_dat<- within(table1_dat, {\n",
        "  MedicalHome <- NA\n",
        "  MedicalHome[MHScores == 4] <- \"Yes MH\"\n",
        "  MedicalHome[MHScores <= 3 | PLCTYP42 == 2] <- \"No MH\"\n",
        "})\n",
        "\n",
        "table(table1_dat$MedicalHome)"
      ],
      "execution_count": null,
      "outputs": []
    },
    {
      "cell_type": "markdown",
      "metadata": {
        "id": "sbCjvKExv6ib"
      },
      "source": [
        "## Table 4 Percentages (Left Side)"
      ]
    },
    {
      "cell_type": "code",
      "metadata": {
        "id": "rzbUVs5ov8rr"
      },
      "source": [
        "head(table4_dat)\n",
        "\n",
        "dim(table4_dat)"
      ],
      "execution_count": null,
      "outputs": []
    },
    {
      "cell_type": "markdown",
      "metadata": {
        "id": "Ovjww49wwD0r"
      },
      "source": [
        "Looking at the first few rows of the data, we can note all of the negative values, which upon looking at the codebook, we can understand as NA values. To make sure these are handled correctly, we’ll code all values that are not relevant to our analysis (\"Not Ascertained, Don’t Know, Refused, and Inapplicable), as NA values via recoding and factoring each of our relevant variables.  \n",
        "\n",
        "The variables are recoded by creating a completely new variable (given new names for easier interpretability), setting all the values to NA, then recoding the two values that are important to our analysis, which is a ‘No’ and ‘Yes’ response, which will be coded to 0 and 1, respectively."
      ]
    },
    {
      "cell_type": "code",
      "metadata": {
        "id": "tp6LVu8PwG5c"
      },
      "source": [
        "#Add in AGE14X variable to properly segment Booster, Safety, LapBelt\n",
        "table4_dat$AGE14X <- H171_subset$AGE14X\n",
        "\n",
        "#Create binary indicator variables for each health screening variable\n",
        "table4_dat <- within(table4_dat, {\n",
        "  LapBelt <- NA\n",
        "  LapBelt[LAPBLT42 == 1 & WHNLAP42 == 1 & AGE14X > 9] <- 1\n",
        "  LapBelt[LAPBLT42 == 2 & AGE14X > 9] <- 0\n",
        "  Booster <- NA\n",
        "  Booster[BOOST42 == 1 & WHNBST42 == 1 & AGE14X <= 9 & AGE14X >= 5] <- 1\n",
        "  Booster[BOOST42 == 2 & AGE14X <= 9 & AGE14X >= 5] <- 0\n",
        "  Safety <- NA\n",
        "  Safety[SAFEST42 == 1 & WHNSAF42 == 1 & AGE14X <= 4] <- 1\n",
        "  Safety[SAFEST42 == 2 & AGE14X <= 4]<- 0\n",
        "  Helmet <- NA\n",
        "  Helmet[HELMET42 == 1 & WHNHEL42 == 1] <- 1\n",
        "  Helmet[HELMET42 == 2] <- 0\n",
        "  Dental <- NA\n",
        "  Dental[DENTAL42 == 1 & WHNDEN42 == 1] <- 1\n",
        "  Dental[DENTAL42 == 2] <- 0\n",
        "  NoSmoke <- NA\n",
        "  NoSmoke[NOSMOK42 == 1 & WHNSMK42 == 1] <- 1\n",
        "  NoSmoke[NOSMOK42 == 2] <- 0\n",
        "  Exercise <- NA\n",
        "  Exercise[PHYSCL42 == 1 & WHNPHY42 == 1] <- 1\n",
        "  Exercise[PHYSCL42 == 2] <- 0\n",
        "  Eat <- NA\n",
        "  Eat[EATHLT42 == 1 & WHNEAT42 == 1]<- 1\n",
        "  Eat[EATHLT42 == 2] <- 0\n",
        "  BPR <- NA\n",
        "  BPR[MESBPR42 == 1 &  WHNBPR42 == 1] <- 1\n",
        "  BPR[MESBPR42 == 2] <- 0\n",
        "  Vision <- NA\n",
        "  Vision[MESVIS42 == 1] <- 1\n",
        "  Vision[MESVIS42 == 2] <- 0\n",
        "  Weight <- NA\n",
        "  Weight[MESWGT42 == 1 &  WHNWGT42 == 1] <- 1\n",
        "  Weight[MESWGT42 == 2] <- 0\n",
        "  Height <- NA\n",
        "  Height[MESHGT42 == 1 & WHNHGT42 == 1] <- 1\n",
        "  Height[MESHGT42 == 2] <- 0\n",
        "})\n",
        "\n",
        "#Convert new variables to factor variables\n",
        "table4_dat$LapBelt <- factor(table4_dat$LapBelt)\n",
        "table4_dat$Booster <- factor(table4_dat$Booster)\n",
        "table4_dat$Safety <-factor(table4_dat$Safety)\n",
        "table4_dat$Helmet <- factor(table4_dat$Helmet)\n",
        "table4_dat$Dental <- factor(table4_dat$Dental)\n",
        "table4_dat$NoSmoke <- factor(table4_dat$NoSmoke)\n",
        "table4_dat$Exercise <- factor(table4_dat$Exercise)\n",
        "table4_dat$Eat <- factor(table4_dat$Eat)\n",
        "table4_dat$BPR <- factor(table4_dat$BPR)\n",
        "table4_dat$Vision <- factor(table4_dat$Vision)\n",
        "table4_dat$Weight <- factor(table4_dat$Weight)\n",
        "table4_dat$Height <- factor(table4_dat$Height)"
      ],
      "execution_count": null,
      "outputs": []
    },
    {
      "cell_type": "markdown",
      "metadata": {
        "id": "FX2yZra9wJKc"
      },
      "source": [
        "The article also features two variables ‘Any Health Screening’ and ‘Any anticipatory guidance’. There was a lack of information on interpretation of these variables in the article - we chose to interpret them as if any of the screening variables in the ‘Receipt of a Health Screening’ section of the table were answered as ‘Yes’, ‘Any Health Screening would also be a ’yes’. We did this through an OR symbol within an ifelse statement, which applies a vectorized function to all rows of our dataframe. If the row meets our stipulations, it is set to ‘1’ in a new column, titled ‘AnyScreening’. If not, the value in ‘AnyScreening’ is ‘0’."
      ]
    },
    {
      "cell_type": "code",
      "metadata": {
        "id": "Hyu_5hzVwK51"
      },
      "source": [
        "#Create variable for \"Any health screening\" by checking if person received any of the health screenings \n",
        "table4_dat <- table4_dat %>%\n",
        "  mutate(AnyScreening = case_when (\n",
        "    table4_dat$Height == 1 | table4_dat$Weight == 1 | table4_dat$Vision == 1 | table4_dat$BPR == 1  ~ 1,\n",
        "    TRUE ~ 0\n",
        "  ))\n",
        "table4_dat$AnyScreening <- factor(table4_dat$AnyScreening)\n",
        "\n",
        "#Create variable for \"Any anticipatory guidance\" by checking if person received any of the guidance\n",
        "table4_dat <- table4_dat %>%\n",
        "  mutate(AnyGuidance = case_when (\n",
        "    table4_dat$Eat == 1 | table4_dat$Exercise == 1 | table4_dat$NoSmoke == 1 | \n",
        "      table4_dat$Dental == 1 | table4_dat$Helmet == 1 | table4_dat$Safety == 1 |  \n",
        "      table4_dat$Booster == 1 | table4_dat$LapBelt == 1  ~ 1,\n",
        "    TRUE ~ 0\n",
        "  ))\n",
        "table4_dat$AnyGuidance <- factor(table4_dat$AnyGuidance)"
      ],
      "execution_count": null,
      "outputs": []
    },
    {
      "cell_type": "markdown",
      "metadata": {
        "id": "M3WzWeO_wM3o"
      },
      "source": [
        "We used the library ‘MatrixStats’ as a way to gather counts of an individual value across a set of columns. Matrixstats, as the name would imply, works only when the dataframe is converted into a matrix, so first we first format the data as a matrix. Then, because we want a percentage of total, one way to do it would be to take a total of all ‘Yes’ responses over a denominator of “Yes” responses + “No” responses. To start on that plan, we used the ‘colCounts’ function from MatrixStats to count each time a 1 occurred in each of the columns. The output was the count of 1s from each column, which we then saved to a dataframe."
      ]
    },
    {
      "cell_type": "code",
      "metadata": {
        "id": "PUM5XBV3wPAl"
      },
      "source": [
        "#Create data frame containing only the variables of interest\n",
        "t4_var <- table4_dat[, c('Height', 'Weight', 'Vision', 'BPR', 'Eat', 'Exercise', \n",
        "                         'NoSmoke', 'Dental', 'Helmet', 'Safety', 'Booster', \n",
        "                         'LapBelt', 'AnyScreening', 'AnyGuidance')]\n",
        "\n",
        "#Create matrix\n",
        "H_matrix = as.matrix(t4_var)\n",
        "\n",
        "#Display first 6 rows in matrix\n",
        "head(H_matrix)\n"
      ],
      "execution_count": null,
      "outputs": []
    },
    {
      "cell_type": "markdown",
      "metadata": {
        "id": "J1juY6RzwQ1I"
      },
      "source": [
        "Then, we did the same for values of 0, saved it to a dataframe, and put both of our values as columns in this same dataframe. We added both columns to received a number of total applicable responses for each question. Then, we used that as the denominator in a new column that divides our 1 responses from the total responses for that question. This is our percentage of respondents that has received a treatment specified in a particular question. We mapped the names of the columns from our previous dataframe as new row values, so we can easily view which question corresponds with which percentage. "
      ]
    },
    {
      "cell_type": "code",
      "metadata": {
        "id": "NkuRW-RWwS44"
      },
      "source": [
        "#Count the number of 1's (or Yes's) in the matrix for each variable (exclude NA's)\n",
        "one_counts <- colCounts(H_matrix, value = 1, na.rm=TRUE)\n",
        "\n",
        "#Create data frame from the count of ones for each variable\n",
        "one_counts <- as.data.frame(one_counts)\n",
        "\n",
        "#Count the number of 0's (or No's) in the matrix for each variable (exclude NA's)\n",
        "zero_counts<- colCounts(H_matrix, value = 0, na.rm=TRUE)\n",
        "\n",
        "#Create data frame from the count of zeroes for each variable\n",
        "zero_counts <- as.data.frame(zero_counts)\n",
        "\n",
        "#Append count of ones to count of zeroes data frame\n",
        "zero_counts$one_counts <- one_counts$one_counts\n",
        "\n",
        "#Create a new variable to capture the number of total respondents\n",
        "zero_counts$total_respondents <- zero_counts$zero_counts + one_counts$one_counts\n",
        "\n",
        "#Create new variable to capture the percentage of total respondents who received screening/guidance\n",
        "zero_counts$percentage_pos <- zero_counts$one_counts / zero_counts$total_respondents\n",
        "\n",
        "#Add variable names into zero_counts data frame\n",
        "zero_counts$var_name <- names(t4_var)\n"
      ],
      "execution_count": null,
      "outputs": []
    },
    {
      "cell_type": "markdown",
      "metadata": {
        "id": "7eL5IuLhwVCn"
      },
      "source": [
        "We renamed the column to something more intuitive, and here are the results below. Notes on the results. It appears that screenings and guidance have increased in every single category of screening and anticipatory guidance. It seems that doctors appear to have gotten improved training on preventative medicine in children."
      ]
    },
    {
      "cell_type": "code",
      "metadata": {
        "id": "u0uaiyQbwXqg"
      },
      "source": [
        "#Rename zero_counts to a more understandable name\n",
        "table4_dat_left <- zero_counts\n",
        "\n",
        "#Display data frame with percentage of children receiving screening/guidance\n",
        "table4_dat_left"
      ],
      "execution_count": null,
      "outputs": []
    },
    {
      "cell_type": "markdown",
      "metadata": {
        "id": "S0dbdDAYwbiE"
      },
      "source": [
        "## Table 4 Adjusted Odds Ratios"
      ]
    },
    {
      "cell_type": "markdown",
      "metadata": {
        "id": "-LdsBSHl4MrO"
      },
      "source": [
        "To be able to calculate our adjusted odds ratios for each variable we have to build a logistic regression using the required variables while changing the Table 4 variable used in each regression, then using the odds.ratio function we can calculate the adjusted odds ratio for each variable. \n",
        "\n",
        "The following variables were used for each of the respective covariates based on the original medical home models in the article.\n",
        "\n",
        "AGE - AGE14X (continuous variable for age worked the best)\n",
        "RACE/ETHNICITY (Recoded varaible 'Race_ethnicity')\n",
        "GENDER (Recoded 'Gender')\n",
        "INSURANCE STATUS (Recoded 'Insurance')\n",
        "FAMLIY INCOME (Recoded 'FamilyIncome')\n",
        "CHILD HEALTH STATUS (Recoded 'ChildHealth')\n",
        "GEOGRAPHIC REGION (Recoded 'GeographicRegion')\n",
        "\n",
        "Below we combined the data from all the previous tables, which we needed to be able to perform the regression. Then we go through each variable in table 4 to calculate the AOR for each variable. \n"
      ]
    },
    {
      "cell_type": "code",
      "metadata": {
        "id": "LHEBzpIWwavj",
        "colab": {
          "base_uri": "https://localhost:8080/",
          "height": 129
        },
        "outputId": "f21fcbf4-1726-4825-8b1f-806e641b70ab"
      },
      "source": [
        "#combine the data we created before\n",
        "dat_comp<-cbind(table1_dat, table2_dat, table4_dat)\n",
        "#create the table we need to calculate the log regressions for each variable\n",
        "table4_log <- dat_comp[, c('Insurance','MedicalHome', 'AGE14X', 'Gender',  'Race_ethnicity',  \n",
        "                           'FamilyIncome', 'ChildHealth', 'GeographicRegion', \n",
        "                           'Height', 'Weight', 'Vision', 'BPR', 'AnyScreening', \n",
        "                           'Eat', 'Exercise', 'NoSmoke', 'Dental', 'Helmet', \n",
        "                           'Safety', 'Booster', 'LapBelt', 'AnyGuidance', 'PREVEN42')]\n",
        "\n",
        "table4_log$MedicalHome <- factor(table4_log$MedicalHome)"
      ],
      "execution_count": null,
      "outputs": [
        {
          "output_type": "error",
          "ename": "ERROR",
          "evalue": "ignored",
          "traceback": [
            "Error in cbind(table1_dat, table2_dat, table4_dat): object 'table1_dat' not found\nTraceback:\n",
            "1. cbind(table1_dat, table2_dat, table4_dat)"
          ]
        }
      ]
    },
    {
      "cell_type": "code",
      "metadata": {
        "id": "HtzgeR_Wwhn0"
      },
      "source": [
        "\n",
        "lr_height <- glm(MedicalHome ~ Height + AGE14X + Gender + Race_ethnicity + FamilyIncome + \n",
        "                   ChildHealth + GeographicRegion + Insurance, family = binomial(link = \"logit\"), \n",
        "                 data = table4_log)\n",
        "#AOR for height variable\n",
        "odds.ratio(lr_height)\n",
        "\n",
        "\n",
        "lr_weight<- glm(MedicalHome ~ Weight + AGE14X + Gender + Race_ethnicity + FamilyIncome + \n",
        "                  ChildHealth + GeographicRegion + Insurance, family = binomial(link = \"logit\"), \n",
        "                data = table4_log)\n",
        "#AOR for weight variable\n",
        "odds.ratio(lr_weight)\n",
        "\n",
        "lr_vision <- glm(MedicalHome ~ Vision + AGE14X + Gender + Race_ethnicity + FamilyIncome + \n",
        "                   ChildHealth + GeographicRegion + Insurance, family = binomial(link = \"logit\"), \n",
        "                 data = table4_log)\n",
        "#AOR for vision variable\n",
        "odds.ratio(lr_vision)\n",
        "\n",
        "lr_BPR <- glm(MedicalHome ~ BPR + AGE14X + Gender + Race_ethnicity + FamilyIncome + \n",
        "               ChildHealth + GeographicRegion + Insurance, family = binomial(link = \"logit\"), \n",
        "              data = table4_log)\n",
        "#AOR for blood pressure variable\n",
        "odds.ratio(lr_BPR)\n",
        "\n",
        "lr_screening <- glm(MedicalHome ~ AnyScreening + AGE14X + Gender + Race_ethnicity + FamilyIncome + \n",
        "                     ChildHealth + GeographicRegion + Insurance, family = binomial(link = \"logit\"), data = table4_log)\n",
        "#AOR for any screening variable\n",
        "odds.ratio(lr_screening)"
      ],
      "execution_count": null,
      "outputs": []
    },
    {
      "cell_type": "code",
      "metadata": {
        "id": "7cezc7Vewlib"
      },
      "source": [
        "lr_diet <- glm(MedicalHome ~ Eat + AGE14X + Gender + Race_ethnicity + FamilyIncome + \n",
        "                  ChildHealth + GeographicRegion + Insurance, family = binomial(link = \"logit\"), \n",
        "               data = table4_log)\n",
        "#AOR for diet variable\n",
        "odds.ratio(lr_diet)\n",
        "\n",
        "lr_exercise<- glm(MedicalHome ~ Exercise + AGE14X + Gender + Race_ethnicity + FamilyIncome + \n",
        "                  ChildHealth + GeographicRegion + Insurance, family = binomial(link = \"logit\"), \n",
        "                  data = table4_log)\n",
        "#AOR for exercise variable\n",
        "odds.ratio(lr_exercise)\n",
        "\n",
        "lr_smoke<- glm(MedicalHome ~ NoSmoke + AGE14X + Gender + Race_ethnicity + FamilyIncome + \n",
        "                  ChildHealth + GeographicRegion + Insurance, family = binomial(link = \"logit\"), \n",
        "               data = table4_log)\n",
        "#AOR for smoking variable\n",
        "odds.ratio(lr_smoke)\n",
        "\n",
        "lr_dental<- glm(MedicalHome ~ Dental + AGE14X + Gender + Race_ethnicity + FamilyIncome + \n",
        "                  ChildHealth + GeographicRegion + Insurance, family = binomial(link = \"logit\"), \n",
        "                data = table4_log)\n",
        "#AOR for dental variable\n",
        "odds.ratio(lr_dental)\n",
        "\n",
        "lr_helmet<- glm(MedicalHome ~ Helmet + AGE14X + Gender + Race_ethnicity + FamilyIncome + \n",
        "                  ChildHealth + GeographicRegion + Insurance, family = binomial(link = \"logit\"), \n",
        "                data = table4_log)\n",
        "#AOR for helmet variable\n",
        "odds.ratio(lr_helmet)\n",
        "\n",
        "lr_safety<- glm(MedicalHome ~ Safety + AGE14X + Gender + Race_ethnicity + FamilyIncome + \n",
        "                  ChildHealth + GeographicRegion + Insurance, family = binomial(link = \"logit\"), \n",
        "                data = table4_log)\n",
        "#AOR for safety seat variable\n",
        "odds.ratio(lr_safety)\n",
        "\n",
        "lr_booster<- glm(MedicalHome ~ Booster + AGE14X + Gender + Race_ethnicity + FamilyIncome + \n",
        "                  ChildHealth + GeographicRegion + Insurance, family = binomial(link = \"logit\"), \n",
        "                 data = table4_log)\n",
        "#AOR for booster seat variable\n",
        "odds.ratio(lr_booster)\n",
        "\n",
        "lr_seatbelt<- glm(MedicalHome ~ LapBelt + AGE14X + Gender + Race_ethnicity + FamilyIncome + \n",
        "                  ChildHealth + GeographicRegion + Insurance, family = binomial(link = \"logit\"), \n",
        "                  data = table4_log)\n",
        "#AOR for seatbelt variable\n",
        "odds.ratio(lr_seatbelt)\n",
        "\n",
        "lr_guidance<- glm(MedicalHome ~ AnyGuidance + AGE14X + Gender + Race_ethnicity + FamilyIncome + \n",
        "                  ChildHealth + GeographicRegion + Insurance, family = binomial(link = \"logit\"), data = table4_log)\n",
        "#AOR for anticipatory guidance variable\n",
        "odds.ratio(lr_guidance)"
      ],
      "execution_count": null,
      "outputs": []
    },
    {
      "cell_type": "markdown",
      "metadata": {
        "id": "oWywangxwpDg"
      },
      "source": [
        "## Table 4 Preventive Visit AOR"
      ]
    },
    {
      "cell_type": "markdown",
      "metadata": {
        "id": "Yihcou_Z5mlI"
      },
      "source": [
        "Below we are doing the same exact thing as the previous section, only we have subsetted the data by having a preventive visit, to get the final column of table 4 from the original article. "
      ]
    },
    {
      "cell_type": "code",
      "metadata": {
        "id": "NkrmExhFwtr_"
      },
      "source": [
        "table4_plog <- table4_log[which(table4_log$PREVEN42 == 1), ]\n",
        "\n",
        "summary(table4_plog)"
      ],
      "execution_count": null,
      "outputs": []
    },
    {
      "cell_type": "code",
      "metadata": {
        "id": "QZGbtVvCwuhB"
      },
      "source": [
        "plr_height <- glm(MedicalHome ~ Height + AGE14X + Gender + Race_ethnicity + FamilyIncome + \n",
        "                   ChildHealth + GeographicRegion + Insurance, family = binomial(link = \"logit\"), \n",
        "                 data = table4_plog)\n",
        "#AOR for height variable - preventive visits subset\n",
        "odds.ratio(plr_height)\n",
        "\n",
        "\n",
        "plr_weight<- glm(MedicalHome ~ Weight + AGE14X + Gender + Race_ethnicity + FamilyIncome + \n",
        "                  ChildHealth + GeographicRegion + Insurance, family = binomial(link = \"logit\"), \n",
        "                data = table4_plog)\n",
        "#AOR for weight variable - preventive visits subset\n",
        "odds.ratio(plr_weight)\n",
        "\n",
        "plr_vision <- glm(MedicalHome ~ Vision + AGE14X + Gender + Race_ethnicity + FamilyIncome + \n",
        "                   ChildHealth + GeographicRegion + Insurance, family = binomial(link = \"logit\"), \n",
        "                 data = table4_plog)\n",
        "#AOR for vision variable - preventive visits subset\n",
        "odds.ratio(plr_vision)\n",
        "\n",
        "plr_BPR <- glm(MedicalHome ~ BPR + AGE14X + Gender + Race_ethnicity + FamilyIncome + \n",
        "               ChildHealth + GeographicRegion + Insurance, family = binomial(link = \"logit\"), \n",
        "              data = table4_plog)\n",
        "#AOR for blood pressure variable - preventive visits subset\n",
        "odds.ratio(plr_BPR)\n",
        "\n",
        "plr_screening <- glm(MedicalHome ~ AnyScreening + AGE14X + Gender + Race_ethnicity + FamilyIncome + \n",
        "                     ChildHealth + GeographicRegion + Insurance, family = binomial(link = \"logit\"), data = table4_plog)\n",
        "#AOR for any screening variable - preventive visits subset\n",
        "odds.ratio(plr_screening)"
      ],
      "execution_count": null,
      "outputs": []
    },
    {
      "cell_type": "code",
      "metadata": {
        "id": "b1Rrt3lowysB"
      },
      "source": [
        "plr_diet <- glm(MedicalHome ~ Eat + AGE14X + Gender + Race_ethnicity + FamilyIncome + \n",
        "                  ChildHealth + GeographicRegion + Insurance, family = binomial(link = \"logit\"), \n",
        "               data = table4_plog)\n",
        "#AOR for diet variable - preventive visits subset\n",
        "odds.ratio(plr_diet)\n",
        "\n",
        "plr_exercise<- glm(MedicalHome ~ Exercise + AGE14X + Gender + Race_ethnicity + FamilyIncome + \n",
        "                  ChildHealth + GeographicRegion + Insurance, family = binomial(link = \"logit\"), \n",
        "                  data = table4_plog)\n",
        "#AOR for exercise variable - preventive visits subset\n",
        "odds.ratio(plr_exercise)\n",
        "\n",
        "plr_smoke<- glm(MedicalHome ~ NoSmoke + AGE14X + Gender + Race_ethnicity + FamilyIncome + \n",
        "                  ChildHealth + GeographicRegion + Insurance, family = binomial(link = \"logit\"), \n",
        "               data = table4_plog)\n",
        "#AOR for smoking variable - preventive visits subset\n",
        "odds.ratio(plr_smoke)\n",
        "\n",
        "plr_dental<- glm(MedicalHome ~ Dental + AGE14X + Gender + Race_ethnicity + FamilyIncome + \n",
        "                  ChildHealth + GeographicRegion + Insurance, family = binomial(link = \"logit\"), \n",
        "                data = table4_plog)\n",
        "#AOR for dental variable - preventive visits subset\n",
        "odds.ratio(plr_dental)\n",
        "\n",
        "plr_helmet<- glm(MedicalHome ~ Helmet + AGE14X + Gender + Race_ethnicity + FamilyIncome + \n",
        "                  ChildHealth + GeographicRegion + Insurance, family = binomial(link = \"logit\"), \n",
        "                data = table4_plog)\n",
        "#AOR for helmet variable - preventive visits subset\n",
        "odds.ratio(plr_helmet)\n",
        "\n",
        "plr_safety<- glm(MedicalHome ~ Safety + AGE14X + Gender + Race_ethnicity + FamilyIncome + \n",
        "                  ChildHealth + GeographicRegion + Insurance, family = binomial(link = \"logit\"), \n",
        "                data = table4_plog)\n",
        "#AOR for safety seat variable - preventive visits subset\n",
        "odds.ratio(plr_safety)\n",
        "\n",
        "plr_booster<- glm(MedicalHome ~ Booster + AGE14X + Gender + Race_ethnicity + FamilyIncome + \n",
        "                  ChildHealth + GeographicRegion + Insurance, family = binomial(link = \"logit\"), \n",
        "                 data = table4_plog)\n",
        "#AOR for booster seat variable - preventive visits subset\n",
        "odds.ratio(plr_booster)\n",
        "\n",
        "plr_seatbelt<- glm(MedicalHome ~ LapBelt + AGE14X + Gender + Race_ethnicity + FamilyIncome + \n",
        "                  ChildHealth + GeographicRegion + Insurance, family = binomial(link = \"logit\"), \n",
        "                  data = table4_plog)\n",
        "#AOR for seatbelt variable - preventive visits subset\n",
        "odds.ratio(plr_seatbelt)\n",
        "\n",
        "plr_guidance<- glm(MedicalHome ~ AnyGuidance + AGE14X + Gender + Race_ethnicity + FamilyIncome + \n",
        "                  ChildHealth + GeographicRegion + Insurance, family = binomial(link = \"logit\"), data = table4_plog)\n",
        "#AOR for any guidance variable - preventive visits subset\n",
        "odds.ratio(plr_guidance)"
      ],
      "execution_count": null,
      "outputs": []
    }
  ]
}