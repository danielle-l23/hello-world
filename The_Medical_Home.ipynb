{
  "nbformat": 4,
  "nbformat_minor": 0,
  "metadata": {
    "colab": {
      "name": "The Medical Home.ipynb",
      "provenance": [],
      "collapsed_sections": [],
      "toc_visible": true,
      "include_colab_link": true
    },
    "kernelspec": {
      "name": "ir",
      "display_name": "R"
    }
  },
  "cells": [
    {
      "cell_type": "markdown",
      "metadata": {
        "id": "view-in-github",
        "colab_type": "text"
      },
      "source": [
        "<a href=\"https://colab.research.google.com/github/danielle-l23/hello-world/blob/main/The_Medical_Home.ipynb\" target=\"_parent\"><img src=\"https://colab.research.google.com/assets/colab-badge.svg\" alt=\"Open In Colab\"/></a>"
      ]
    },
    {
      "cell_type": "markdown",
      "metadata": {
        "id": "ca9PepRgZVDv"
      },
      "source": [
        "**Group Members:** 9079414778, 9071987730, 9058163032"
      ]
    },
    {
      "cell_type": "markdown",
      "metadata": {
        "id": "9F9aGorH959b"
      },
      "source": [
        "First, we'll install some packages necessary to display our tables appropriately."
      ]
    },
    {
      "cell_type": "code",
      "metadata": {
        "id": "G4eDvZbSSRM4"
      },
      "source": [
        "library(\"epiDisplay\")\n",
        "\n",
        "library(\"questionr\")"
      ],
      "execution_count": null,
      "outputs": []
    },
    {
      "cell_type": "markdown",
      "metadata": {
        "id": "w_XYzBz4-EH6"
      },
      "source": [
        "Now we can read in our data."
      ]
    },
    {
      "cell_type": "code",
      "metadata": {
        "id": "OSrsP2G1MXzH"
      },
      "source": [
        "load('H171.RData')"
      ],
      "execution_count": null,
      "outputs": []
    },
    {
      "cell_type": "markdown",
      "metadata": {
        "id": "am5E8IFTSrMa"
      },
      "source": [
        "For the study, we are looking exclusively at children who have had office visit for health care. Therefore, we are removing people over 17 years old, and people who have 0 office-based health care visits. "
      ]
    },
    {
      "cell_type": "code",
      "metadata": {
        "id": "GsdRhriOEpZ7"
      },
      "source": [
        "#Remove all people over 17yrs old\n",
        "dat <- H171[which(H171$AGE14X < 18 & H171$AGE14X > 0), ]\n",
        "\n",
        "#Remove observations with missing value for age variable\n",
        "dat$AGE14X[dat$AGE14X == -1] <- NA\n",
        "\n",
        "summary(dat$AGE14X)\n",
        "\n",
        "#Remove all missing values and people who have 0 office-based health care visits\n",
        "dat <- dat[which(dat$CHAPPT42 > 0), ]\n",
        "\n",
        "summary(dat$CHAPPT42)"
      ],
      "execution_count": null,
      "outputs": []
    },
    {
      "cell_type": "markdown",
      "metadata": {
        "id": "xs8_1gmLEv-l"
      },
      "source": [
        "## Missing Data"
      ]
    },
    {
      "cell_type": "markdown",
      "metadata": {
        "id": "zxN-Q-XnE0oj"
      },
      "source": [
        "Next we will examine the missing data in the MEPS 2014 variables we will be using."
      ]
    },
    {
      "cell_type": "code",
      "metadata": {
        "id": "AxXkSrYbEtCc"
      },
      "source": [
        "#Variables for Table 1/Table 3\n",
        "table1_dat <- dat[, c('HAVEUS42', 'PROVTY42', 'OFFHOU42', 'AFTHOU42', 'PHNREG42', 'CHLIST42', 'CHPRTM42', 'TREATM42', 'RESPCT42', 'DECIDE42', 'EXPLOP42', 'CHEXPL42', 'CHSPEC42', 'CHEYRE42', 'CHILCR42', 'CHILWW42', 'CHRTCR42', 'CHRTWW42', 'CHNDCR42', 'CHENEC42', 'CHRESP42')]\n",
        "\n",
        "#Variables for Table 2\n",
        "demo_dat <- dat[,c('AGE14X', 'INSCOV14', 'sex', 'POVLEV14', 'racethx', 'RTHLTH53', 'REGION14')]\n",
        "\n",
        "#Combine data frames\n",
        "comp_dat <- cbind(demo_dat, table1_dat)\n",
        "\n",
        "summary(comp_dat)\n",
        "\n",
        "#Remove observations in data frame coded as a missing value by MEPS\n",
        "comp_dat[comp_dat < 0] <- NA"
      ],
      "execution_count": null,
      "outputs": []
    },
    {
      "cell_type": "code",
      "metadata": {
        "id": "mHO_LaQlE7ef"
      },
      "source": [
        "#Produce chart showing count of missing values and percentage missing\n",
        "#for each variable\n",
        "freq.na(comp_dat)"
      ],
      "execution_count": null,
      "outputs": []
    },
    {
      "cell_type": "markdown",
      "metadata": {
        "id": "o0Qx05ZeFBzz"
      },
      "source": [
        "## Table 2"
      ]
    },
    {
      "cell_type": "markdown",
      "metadata": {
        "id": "JEyMfHIteLgU"
      },
      "source": [
        "Now, we'll target the variables for Table 2, which focuses on the demographics of all children in the MEPS dataset that have had at least 1 office-based healthcare visit in the year prior to data collection. "
      ]
    },
    {
      "cell_type": "markdown",
      "metadata": {
        "id": "8G2RgspCCF7n"
      },
      "source": [
        "'AGE14X' is a numerical variable of age collected in 2014. 'INSCOV14' gives a breakdown of basic insurance types by patient, also collected in 2014. 'sex' gives binary gender information (the same in all MEPS versions). 'POVLEV14' indicates family income of participant as a % of the federal poverty line (these data were collected in 2014). 'racethx' indicates race and ethnicity, chosen specifically because of its question regarding Hispanic ethnicity. 'RTHLTH53' indicates perceived health status - in this case it would be parent-reported perceived health status of the child. Note that 'RTHLTH53' did not have an available version from 2014, so the version from 5/3 was chosen in an effort to use the most recent data possible. 'REGION14' gives information on regional residence of the participant (data collected in 2014).\n"
      ]
    },
    {
      "cell_type": "code",
      "metadata": {
        "id": "TRf_ndr8eJHk"
      },
      "source": [
        "#Create new categorical variables to match categories in the paper for Table 2\n",
        "demo_dat <- within(demo_dat, {\n",
        "        Gender <- NA\n",
        "        Gender[sex == 1] <- \"Male\"\n",
        "        Gender[sex == 2] <- \"Female\"\n",
        "        Age <- NA\n",
        "        Age[AGE14X >= 0 & AGE14X <= 5] <- \"0-5 Years\"\n",
        "        Age[AGE14X > 5 & AGE14X <= 11] <- \"6-11 Years\"\n",
        "        Age[AGE14X > 11 & AGE14X <= 17] <- \"12-17 Years\"\n",
        "        Race_ethnicity <- NA\n",
        "        Race_ethnicity[racethx == 1] <- \"Hispanic\"\n",
        "        Race_ethnicity[racethx == 2] <- \"White, non-Hispanic\"\n",
        "        Race_ethnicity[racethx == 3] <- \"Black, non-Hispanic\"\n",
        "        Race_ethnicity[racethx == 4 | racethx == 5] <- \"Other, non-Hispanic\"\n",
        "        Insurance <- NA\n",
        "        Insurance[INSCOV14 == 1] <- \"Private\"\n",
        "        Insurance[INSCOV14 == 2] <- \"Public\"\n",
        "        Insurance[INSCOV14 == 3] <- \"Uninsured Full Year\"\n",
        "        FamilyIncome <- NA\n",
        "        FamilyIncome[POVLEV14 < 100] <- \"<100% FPL\"\n",
        "        FamilyIncome[POVLEV14 >= 100 & POVLEV14 < 200] <- \"100%–199% FPL\"\n",
        "        FamilyIncome[POVLEV14 >= 200 & POVLEV14 < 400] <- \"200%–399% FPL\"\n",
        "        FamilyIncome[POVLEV14 >= 400] <- \">=400% FPL\"\n",
        "        ChildHealth <- NA\n",
        "        ChildHealth[RTHLTH53 == 1 | RTHLTH53 == 2] <- \"Excellent/very good\"\n",
        "        ChildHealth[RTHLTH53 == 3] <- \"Good\"\n",
        "        ChildHealth[RTHLTH53 == 4 | RTHLTH53 == 5] <- \"Fair/poor\"\n",
        "        GeographicRegion <- NA\n",
        "        GeographicRegion[REGION14 == 1] <- \"Northeast\"\n",
        "        GeographicRegion[REGION14 == 2] <- \"Midwest\"\n",
        "        GeographicRegion[REGION14 == 3] <- \"South\"\n",
        "        GeographicRegion[REGION14 == 4] <- \"West\"\n",
        "               })"
      ],
      "execution_count": null,
      "outputs": []
    },
    {
      "cell_type": "code",
      "metadata": {
        "id": "tJwMrkzXhAkR"
      },
      "source": [
        "#Convert new categorical variables to factors\n",
        "factor_vars <- c(\"Age\", \"Gender\", \"Race_ethnicity\", \"Insurance\", \"FamilyIncome\", \"ChildHealth\", \"GeographicRegion\")\n",
        "\n",
        "demo_dat[factor_vars] <- lapply(demo_dat[factor_vars], factor)"
      ],
      "execution_count": null,
      "outputs": []
    },
    {
      "cell_type": "code",
      "metadata": {
        "id": "NKA4KuEpqZOf"
      },
      "source": [
        "#Remove original variables\n",
        "demo_dat[,1:7] <- list(NULL)\n",
        "\n",
        "summary(demo_dat)\n",
        "str(demo_dat)"
      ],
      "execution_count": null,
      "outputs": []
    },
    {
      "cell_type": "markdown",
      "metadata": {
        "id": "9SzbL8nPTVAj"
      },
      "source": [
        "Now we can find the percentages for Table 2"
      ]
    },
    {
      "cell_type": "code",
      "metadata": {
        "id": "jnUOvdKPryJo"
      },
      "source": [
        "#Age Breakdown\n",
        "tab1(demo_dat$Age, sort.group = \"decreasing\")\n",
        "\n",
        "#Gender Breakdown\n",
        "tab1(demo_dat$Gender, sort.group = \"decreasing\")\n",
        "\n",
        "#Race/ethnicity Breakdown\n",
        "tab1(demo_dat$Race_ethnicity, sort.group = \"decreasing\", cex = 1, cex.names = .75)\n",
        "\n",
        "#Insurance Breakdown\n",
        "tab1(demo_dat$Insurance, sort.group = \"decreasing\")\n",
        "\n",
        "#Family income Breakdown\n",
        "tab1(demo_dat$FamilyIncome, sort.group = \"decreasing\", cex = 1, cex.names = .75)\n",
        "\n",
        "#Parent report HS Breakdown\n",
        "tab1(demo_dat$ChildHealth, sort.group = \"decreasing\")\n",
        "\n",
        "#Region Breakdown\n",
        "tab1(demo_dat$GeographicRegion, sort.group = \"decreasing\")"
      ],
      "execution_count": null,
      "outputs": []
    },
    {
      "cell_type": "markdown",
      "metadata": {
        "id": "mjikQP7bDUf1"
      },
      "source": [
        "## Table 1 / Table 3\n",
        "The first step to create Table 3 is to code the survey items from Table 1 so that they can be used to generate Table 3."
      ]
    },
    {
      "cell_type": "code",
      "metadata": {
        "id": "r14Q_CUhI3C4"
      },
      "source": [
        "#Create new categorical variables to match survey items in Table 1\n",
        "table1_dat <- within(table1_dat, {\n",
        "      Offhours <- NA\n",
        "      Offhours[OFFHOU42 == 1] <- 100\n",
        "      Offhours[OFFHOU42 == 2 | OFFHOU42 == -8] <- 0\n",
        "      Diff_Aft <- NA\n",
        "      Diff_Aft[AFTHOU42 == 1] <- 0\n",
        "      Diff_Aft[AFTHOU42 == 2] <- 25\n",
        "      Diff_Aft[AFTHOU42 == 3] <- 75\n",
        "      Diff_Aft[AFTHOU42 == 4] <- 100\n",
        "      Phone <- NA\n",
        "      Phone[PHNREG42 == 1] <- 0\n",
        "      Phone[PHNREG42 == 2] <- 25\n",
        "      Phone[PHNREG42 == 3] <- 75\n",
        "      Phone[PHNREG42 == 4] <- 100\n",
        "      Listened <- NA\n",
        "      Listened[CHLIST42 == 1] <- 0\n",
        "      Listened[CHLIST42 == 2] <- 25\n",
        "      Listened[CHLIST42 == 3] <- 75\n",
        "      Listened[CHLIST42 == 4] <- 100\n",
        "      EnoughTime <- NA\n",
        "      EnoughTime[CHPRTM42 == 1] <- 0\n",
        "      EnoughTime[CHPRTM42 == 2] <- 25\n",
        "      EnoughTime[CHPRTM42 == 3] <- 75\n",
        "      EnoughTime[CHPRTM42 == 4] <- 100\n",
        "      Advice <- NA\n",
        "      Advice[TREATM42 == 1] <- 100\n",
        "      Advice[TREATM42 == 2 | TREATM42 == -8] <- 0\n",
        "      Respect <- NA\n",
        "      Respect[RESPCT42 == 1] <- 0\n",
        "      Respect[RESPCT42 == 2] <- 25\n",
        "      Respect[RESPCT42 == 3] <- 75\n",
        "      Respect[RESPCT42 == 4] <- 100\n",
        "      Decide <- NA\n",
        "      Decide[DECIDE42 == 1] <- 0\n",
        "      Decide[DECIDE42 == 2] <- 25\n",
        "      Decide[DECIDE42 == 3] <- 75\n",
        "      Decide[DECIDE42 == 4] <- 100\n",
        "      ExplainOpt <- NA\n",
        "      ExplainOpt[EXPLOP42 == 1] <- 100\n",
        "      ExplainOpt[EXPLOP42 == 2 | EXPLOP42 == -8] <- 0\n",
        "      Understand <- NA\n",
        "      Understand[CHEXPL42 == 1] <- 0\n",
        "      Understand[CHEXPL42 == 2] <- 25\n",
        "      Understand[CHEXPL42 == 3] <- 75\n",
        "      Understand[CHEXPL42 == 4] <- 100\n",
        "      Access_Spec <- NA\n",
        "      Access_Spec[CHEYRE42 == 1 | CHEYRE42 == -8] <- 100\n",
        "      Access_Spec[CHEYRE42 == 2] <- 50\n",
        "      Access_Spec[CHEYRE42 == 3 | CHEYRE42 == 4] <- 0\n",
        "      CareNeeded <- NA\n",
        "      CareNeeded[CHILWW42 == 1 | CHILWW42 == -8] <- 0\n",
        "      CareNeeded[CHILWW42 == 2] <- 25\n",
        "      CareNeeded[CHILWW42 == 3] <- 75\n",
        "      CareNeeded[CHILWW42 == 4] <- 100\n",
        "      RoutineCare <- NA\n",
        "      RoutineCare[CHRTWW42 == 1] <- 0\n",
        "      RoutineCare[CHRTWW42 == 2] <- 25\n",
        "      RoutineCare[CHRTWW42 == 3] <- 75\n",
        "      RoutineCare[CHRTWW42 == 4 | CHRTWW42 == -8] <- 100\n",
        "      NecessaryCare <- NA\n",
        "      NecessaryCare[CHENEC42 == 1] <- 0\n",
        "      NecessaryCare[CHENEC42 == 2] <- 25\n",
        "      NecessaryCare[CHENEC42 == 3] <- 75\n",
        "      NecessaryCare[CHENEC42 == 4 | CHENEC42 == -8] <- 100\n",
        "      RespPat <- NA\n",
        "      RespPat[CHRESP42 == 1] <- 0\n",
        "      RespPat[CHRESP42 == 2] <- 25\n",
        "      RespPat[CHRESP42 == 3] <- 75\n",
        "      RespPat[CHRESP42 == 4] <- 100\n",
        "})"
      ],
      "execution_count": null,
      "outputs": []
    },
    {
      "cell_type": "code",
      "metadata": {
        "id": "YK1TlNSyCDg8"
      },
      "source": [
        "#Display first 6 rows of the new categorical variables\n",
        "head(table1_dat[,c(22:36)])"
      ],
      "execution_count": null,
      "outputs": []
    },
    {
      "cell_type": "code",
      "metadata": {
        "id": "9xF0vuyLvJWA"
      },
      "source": [
        "#Create additional categorical variables to match survey items in Table 1 \n",
        "table1_new <- within(table1_dat, {\n",
        "  UsualSource <- NA\n",
        "  UsualSource[HAVEUS42 == 1] <- \"Yes\"\n",
        "  UsualSource[HAVEUS42 == 2] <- \"No\"\n",
        "  ProvType <- NA\n",
        "  ProvType[PROVTY42 == 1] <- \"Facility\"\n",
        "  ProvType[PROVTY42 == 2 & 3] <- \"Person\"\n",
        "  Offhours <- NA\n",
        "  Offhours[OFFHOU42 == 1] <- 100\n",
        "  Offhours[OFFHOU42 == 2] <- 0\n",
        "  Diff_Aft <- NA\n",
        "  Diff_Aft[AFTHOU42 == 1] <- 0\n",
        "  Diff_Aft[AFTHOU42 == 2] <- 25\n",
        "  Diff_Aft[AFTHOU42 == 3] <- 75\n",
        "  Diff_Aft[AFTHOU42 == 4] <- 100\n",
        "  Phone <- NA\n",
        "  Phone[PHNREG42 == 1] <- 0\n",
        "  Phone[PHNREG42 == 2] <- 25\n",
        "  Phone[PHNREG42 == 3] <- 75\n",
        "  Phone[PHNREG42 == 4] <- 100\n",
        "  Listened <- NA\n",
        "  Listened[CHLIST42 == 1] <- 0\n",
        "  Listened[CHLIST42 == 2] <- 25\n",
        "  Listened[CHLIST42 == 3] <- 75\n",
        "  Listened[CHLIST42 == 4] <- 100\n",
        "  EnoughTime <- NA\n",
        "  EnoughTime[CHPRTM42 == 1] <- 0\n",
        "  EnoughTime[CHPRTM42 == 2] <- 25\n",
        "  EnoughTime[CHPRTM42 == 3] <- 75\n",
        "  EnoughTime[CHPRTM42 == 4] <- 100\n",
        "  Advice <- NA\n",
        "  Advice[TREATM42 == 1] <- 100\n",
        "  Advice[TREATM42 == 2] <- 0\n",
        "  Respect <- NA\n",
        "  Respect[RESPCT42 == 1] <- 0\n",
        "  Respect[RESPCT42 == 2] <- 25\n",
        "  Respect[RESPCT42 == 3] <- 75\n",
        "  Respect[RESPCT42 == 4] <- 100\n",
        "  Decide <- NA\n",
        "  Decide[DECIDE42 == 1] <- 0\n",
        "  Decide[DECIDE42 == 2] <- 25\n",
        "  Decide[DECIDE42 == 3] <- 75\n",
        "  Decide[DECIDE42 == 4] <- 100\n",
        "  ExplainOpt <- NA\n",
        "  ExplainOpt[EXPLOP42 == 1] <- 100\n",
        "  ExplainOpt[EXPLOP42 == 2] <- 0\n",
        "  Understand <- NA\n",
        "  Understand[CHEXPL42 == 1] <- 0\n",
        "  Understand[CHEXPL42 == 2] <- 25\n",
        "  Understand[CHEXPL42 == 3] <- 75\n",
        "  Understand[CHEXPL42 == 4] <- 100\n",
        "  Specialist <- NA\n",
        "  Specialist[CHSPEC42 == 1] <- 1\n",
        "  Specialist[CHSPEC42 == 2] <- 0\n",
        "  Access_Spec <- NA\n",
        "  Access_Spec[CHEYRE42 == 1] <- 100\n",
        "  Access_Spec[CHEYRE42 == 2] <- 50\n",
        "  Access_Spec[CHEYRE42 == 3 | CHEYRE42 == 4] <- 0\n",
        "  Immediate <- NA\n",
        "  Immediate[CHILCR42 == 1] <- 100\n",
        "  Immediate[CHILCR42 == 2] <- 0\n",
        "  CareNeeded <- NA\n",
        "  CareNeeded[CHILWW42 == 1] <- 0\n",
        "  CareNeeded[CHILWW42 == 2] <- 25\n",
        "  CareNeeded[CHILWW42 == 3] <- 75\n",
        "  CareNeeded[CHILWW42 == 4] <- 100\n",
        "  Routine <- NA\n",
        "  Routine[CHRTCR42 == 1] <- 100\n",
        "  Routine[CHRTCR42 == 2] <- 0\n",
        "  RoutineCare <- NA\n",
        "  RoutineCare[CHRTWW42 == 1] <- 0\n",
        "  RoutineCare[CHRTWW42 == 2] <- 25\n",
        "  RoutineCare[CHRTWW42 == 3] <- 75\n",
        "  RoutineCare[CHRTWW42 == 4] <- 100\n",
        "  Believe <- NA\n",
        "  Believe[CHNDCR42 == 1] <- 100\n",
        "  Believe[CHNDCR42 == 2] <- 100\n",
        "  NecessaryCare <- NA\n",
        "  NecessaryCare[CHENEC42 == 1] <- 0\n",
        "  NecessaryCare[CHENEC42 == 2] <- 25\n",
        "  NecessaryCare[CHENEC42 == 3] <- 75\n",
        "  NecessaryCare[CHENEC42 == 4] <- 100\n",
        "  RespPat <- NA\n",
        "  RespPat[CHRESP42 == 1] <- 0\n",
        "  RespPat[CHRESP42 == 2] <- 25\n",
        "  RespPat[CHRESP42 == 3] <- 75\n",
        "  RespPat[CHRESP42 == 4] <- 100\n",
        "})"
      ],
      "execution_count": null,
      "outputs": []
    },
    {
      "cell_type": "code",
      "metadata": {
        "id": "MbRzZuITvQMH"
      },
      "source": [
        "#add to original working table for ease\n",
        "table1_new$access <- rowMeans(table1_new[, c('Offhours', 'Diff_Aft', 'Phone')], na.rm = True)\n",
        "\n",
        "table1_new$famcenter <- rowMeans(table1_new[, c('Listened', 'EnoughTime','Advice',\n",
        "                                                'Respect','Decide','ExplainOpt',\n",
        "                                                'Understand')], na.rm = True)\n",
        "\n",
        "table1_new$comprehensive <- rowMeans(table1_new[, c('Specialist','Access_Spec',\n",
        "                                                    'Immediate','CareNeeded',\n",
        "                                                    'Routine','RoutineCare',\n",
        "                                                    'Believe','NecessaryCare')], na.rm = True)"
      ],
      "execution_count": null,
      "outputs": []
    },
    {
      "cell_type": "code",
      "metadata": {
        "id": "dMYOzkh2vUcn"
      },
      "source": [
        "#build the binary indicator for each category for medical homes\n",
        "table1_new <- within(table1_new, {\n",
        "  Accessible <- NA\n",
        "  Accessible[access >= 75] <- 1\n",
        "  Accessible[access < 75] <- 0\n",
        "})\n",
        "table1_new <- within(table1_new, {\n",
        "  FamilyCentered <- NA\n",
        "  FamilyCentered[famcenter >= 75] <- 1\n",
        "  FamilyCentered[famcenter < 75] <- 0\n",
        "})\n",
        "table1_new <- within(table1_new, {\n",
        "  Comprehensive <- NA\n",
        "  Comprehensive[comprehensive >= 75] <- 1\n",
        "})\n",
        "table1_new <- within(table1_new, {\n",
        "  Compassionate <- NA\n",
        "  Compassionate[RespPat >= 75] <- 1\n",
        "  Compassionate[RespPat < 75] <- 0\n",
        "})\n",
        "table1_new$MHScores <- rowSums(table1_new[ , c('Accessible','FamilyCentered',\n",
        "                                               'Comprehensive','Compassionate')])\n",
        "table1_new <- within(table1_new, {\n",
        "  MedicalHome <- NA\n",
        "  MedicalHome[MHScores == 4] <- \"Yes MH\"\n",
        "  MedicalHome[MHScores < 3] <- \"No MH\"\n",
        "})\n",
        "table(table1_new$MedicalHome) #note ~122 in MH and 34 not, as of our current version"
      ],
      "execution_count": null,
      "outputs": []
    },
    {
      "cell_type": "code",
      "metadata": {
        "id": "z5Gud7O3vUXG"
      },
      "source": [
        "#start creating table 3 using \"table1_new\"\n",
        "table3noprop <- table1_new[ , c('MedicalHome','UsualSource','ProvType','Accessible',\n",
        "                                'FamilyCentered','Comprehensive','Compassionate')]\n",
        "\n",
        "head(table3noprop) "
      ],
      "execution_count": null,
      "outputs": []
    },
    {
      "cell_type": "markdown",
      "metadata": {
        "id": "W9ATa67Fvahx"
      },
      "source": [
        "Note all the NAs in the Medical Home and Comprehensive category. This is mainly due to aggregating the data when there were multiple missings. If we were to do this again, we would need to either remove variables that are portions of the questions we matched that have large missing values (as even just one missing will lead to an NA) or we find a way to solve for missing values. This leads to ~450 records left for comprehensive and ~150 for medical homes. "
      ]
    },
    {
      "cell_type": "code",
      "metadata": {
        "id": "Rl7EaDUzvdVR"
      },
      "source": [
        "#Display tables for each element of medical homes listed in Table 3\n",
        "table(table3noprop$ProvType)\n",
        "\n",
        "table(table3noprop$Accessible)\n",
        "\n",
        "table(table3noprop$Accessible,table3noprop$ProvType)\n",
        "\n",
        "table(table3noprop$FamilyCentered)\n",
        "table(table3noprop$Comprehensive)\n",
        "table(table3noprop$Compassionate)\n",
        "table(table3noprop$MedicalHome)\n",
        "table(table3noprop$MedicalHome,table3noprop$ProvType)"
      ],
      "execution_count": null,
      "outputs": []
    },
    {
      "cell_type": "code",
      "metadata": {
        "id": "y3_OcEipLoBt"
      },
      "source": [
        "###############################\n",
        "## Didn't use in Deliverable 1\n",
        "###############################\n",
        "for (row in range(length(table1_new))) {\n",
        "  if (table1_new[row, 'Specialist'] == 1){\n",
        "    if (table1_new[row, 'Immediate'] == 1) {\n",
        "      if (table1_new[row, 'Routine'] == 1) {\n",
        "        if (table1_new[row, 'Believe'] == 1){\n",
        "          table1_new$comprehensive <- rowMeans(table1_new[, c('Access_Spec','CareNeeded',\n",
        "                                                    'RoutineCare','NecessaryCare')], na.rm = TRUE)}\n",
        "        \n",
        "        else {\n",
        "          table1_new$comprehensive <- rowMeans(table1_new[, c('Access_Spec','CareNeeded',\n",
        "                                                    'RoutineCare')])}\n",
        "      }                                             \n",
        "      else {\n",
        "        if (table1_new[row, 'Believe'] == 1){\n",
        "          table1_new$comprehensive <- rowMeans(table1_new[, c('Access_Spec', 'CareNeeded', 'Believe')])}\n",
        "        else {\n",
        "          table1_new$comprehensive <- rowMeans(table1_new[, c('Access_Spec', 'CareNeeded')])\n",
        "        } \n",
        "      }\n",
        "        }\n",
        "    else {\n",
        "      if (table1_new[row, 'Routine'] == 1){\n",
        "        if (table1_new[row, 'Believe'] == 1) {\n",
        "          table1_new$comprehensive <- rowMeans(table1_new[, c('Access_Spec', 'RoutineCare', 'NecessaryCare'), na.rm = TRUE])\n",
        "        }\n",
        "        else {\n",
        "          table1_new$comprehensive <- rowMeans(table1_new[, c('Access_Spec', 'RoutineCare')])\n",
        "        }\n",
        "      }\n",
        "      else {\n",
        "        if (table1_new[row, 'Believe'] == 1) {\n",
        "          table1_new$comprehensive <- rowMeans(table1_new[, c('Access_Spec', 'NecessaryCare')], na.rm = TRUE)}\n",
        "        else {\n",
        "          table1_new$comprehensive <- mean(table1_new[, 'Access_Spec'])\n",
        "        }\n",
        "        }\n",
        "      }\n",
        "    }    \n",
        "  else {\n",
        "    if (table1_new[row, 'Immediate'] == 1) {\n",
        "      if (table1_new[row, 'Routine'] == 1) {\n",
        "        if (table1_new[row, 'Believe'] == 1){\n",
        "          table1_new$comprehensive <- rowMeans(table1_new[, c('CareNeeded',\n",
        "                                                    'RoutineCare','NecessaryCare')], na.rm = TRUE)}\n",
        "        else {\n",
        "          table1_new$comprehensive <- rowMeans(table1_new[, c('CareNeeded', 'RoutineCare')], na.rm = TRUE)\n",
        "        }\n",
        "      }\n",
        "      else {\n",
        "        if (table1_new[row, 'Believe'] == 1){\n",
        "          table1_new$comprehensive <- rowMeans(table1_new[, c('CareNeeded', 'NecessaryCare')], na.rm = TRUE)}\n",
        "        else {\n",
        "          table1_new$comprehensive <- mean(table1_new[, 'CareNeeded'])\n",
        "        }\n",
        "      }\n",
        "    }\n",
        "    else {\n",
        "      if (table1_new[row, 'Routine'] == 1) {\n",
        "        if (table1_new[row, 'Believe'] == 1){\n",
        "          table1_new$comprehensive <- rowMeans(table1_new[, c('RoutineCare', 'NecessaryCare')], na.rm = TRUE)}\n",
        "        else {\n",
        "          table1_new$comprehensive <- mean(table1_new[, 'RoutineCare'])\n",
        "        }\n",
        "      }\n",
        "      else {\n",
        "        if (table1_new[row, 'Believe'] == 1) {\n",
        "          table1_new$comprehensive <- mean(table1_new[, 'NecessaryCare'], na.rm = TRUE)\n",
        "        }\n",
        "        else{\n",
        "          table1_new$comprehensive <- 0\n",
        "        }\n",
        "      }\n",
        "    }\n",
        "  }\n",
        "  \n",
        "}\n"
      ],
      "execution_count": null,
      "outputs": []
    }
  ]
}